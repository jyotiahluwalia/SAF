{
 "cells": [
  {
   "cell_type": "code",
   "execution_count": 1,
   "id": "8f41d37e-842b-4800-a788-b0cb5a53e149",
   "metadata": {},
   "outputs": [
    {
     "name": "stdout",
     "output_type": "stream",
     "text": [
      "Downloading balloon_dataset.zip...\n",
      "Download complete. File saved as balloon_dataset.zip\n"
     ]
    }
   ],
   "source": [
    "import requests\n",
    "import os\n",
    "\n",
    "url = \"https://github.com/matterport/Mask_RCNN/releases/download/v2.1/balloon_dataset.zip\"\n",
    "filename = \"balloon_dataset.zip\"\n",
    "\n",
    "print(f\"Downloading {filename}...\")\n",
    "response = requests.get(url, stream=True)\n",
    "response.raise_for_status()\n",
    "\n",
    "with open(filename, 'wb') as file:\n",
    "    for chunk in response.iter_content(chunk_size=8192):\n",
    "        file.write(chunk)\n",
    "\n",
    "print(f\"Download complete. File saved as {filename}\")"
   ]
  },
  {
   "cell_type": "code",
   "execution_count": null,
   "id": "4dd4b1ee-24e8-44ac-8072-bd1b904a500e",
   "metadata": {},
   "outputs": [],
   "source": []
  }
 ],
 "metadata": {
  "kernelspec": {
   "display_name": "mdet",
   "language": "python",
   "name": "mdet"
  },
  "language_info": {
   "codemirror_mode": {
    "name": "ipython",
    "version": 3
   },
   "file_extension": ".py",
   "mimetype": "text/x-python",
   "name": "python",
   "nbconvert_exporter": "python",
   "pygments_lexer": "ipython3",
   "version": "3.11.9"
  }
 },
 "nbformat": 4,
 "nbformat_minor": 5
}
